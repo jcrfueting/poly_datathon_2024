{
 "cells": [
  {
   "cell_type": "code",
   "execution_count": 1,
   "metadata": {},
   "outputs": [
    {
     "name": "stdout",
     "output_type": "stream",
     "text": [
      "Failed to connect: connection to server at \"database-1.cluster-ro-czkmkismw47i.us-west-2.rds.amazonaws.com\" (172.31.35.120), port 5432 failed: Connection timed out\n",
      "\tIs the server running on that host and accepting TCP/IP connections?\n",
      "\n"
     ]
    },
    {
     "ename": "NameError",
     "evalue": "name 'conn' is not defined",
     "output_type": "error",
     "traceback": [
      "\u001b[0;31m---------------------------------------------------------------------------\u001b[0m",
      "\u001b[0;31mNameError\u001b[0m                                 Traceback (most recent call last)",
      "Cell \u001b[0;32mIn[1], line 20\u001b[0m\n\u001b[1;32m     18\u001b[0m     \u001b[38;5;28mprint\u001b[39m(\u001b[38;5;124mf\u001b[39m\u001b[38;5;124m\"\u001b[39m\u001b[38;5;124mFailed to connect: \u001b[39m\u001b[38;5;132;01m{\u001b[39;00me\u001b[38;5;132;01m}\u001b[39;00m\u001b[38;5;124m\"\u001b[39m)\n\u001b[1;32m     19\u001b[0m \u001b[38;5;28;01mfinally\u001b[39;00m:\n\u001b[0;32m---> 20\u001b[0m     \u001b[43mconn\u001b[49m\u001b[38;5;241m.\u001b[39mclose()\n",
      "\u001b[0;31mNameError\u001b[0m: name 'conn' is not defined"
     ]
    }
   ],
   "source": [
    "import psycopg2\n",
    "\n",
    "# Database connection parameters\n",
    "db_params = {\n",
    "    'dbname': 'datathon_db',\n",
    "    'user': 'janos',\n",
    "    'password': 'p9Z7TcIs_9YJDtX({[94otD}x>S[',\n",
    "    'host': \"database-1.cluster-ro-czkmkismw47i.us-west-2.rds.amazonaws.com\", \n",
    "    'port': '5432'  # Default PostgreSQL port\n",
    "}\n",
    "\n",
    "# Connect to the database\n",
    "try:\n",
    "    conn = psycopg2.connect(**db_params)\n",
    "    print(\"Connection established!\")\n",
    "    # Your code here (e.g., execute queries)\n",
    "except Exception as e:\n",
    "    print(f\"Failed to connect: {e}\")\n",
    "finally:\n",
    "    conn.close()\n"
   ]
  },
  {
   "cell_type": "code",
   "execution_count": 7,
   "metadata": {},
   "outputs": [],
   "source": [
    "import boto3\n",
    "from botocore.exceptions import ClientError\n",
    "\n",
    "\n",
    "def get_secret():\n",
    "\n",
    "    secret_name = \"rds!cluster-72ab118b-8a0b-491d-9c6b-4b0a49833510\"\n",
    "    region_name = \"us-west-2\"\n",
    "\n",
    "    # Create a Secrets Manager client\n",
    "    session = boto3.session.Session()\n",
    "    client = session.client(\n",
    "        service_name='secretsmanager',\n",
    "        region_name=region_name\n",
    "    )\n",
    "\n",
    "    try:\n",
    "        get_secret_value_response = client.get_secret_value(\n",
    "            SecretId=secret_name\n",
    "        )\n",
    "    except ClientError as e:\n",
    "        # For a list of exceptions thrown, see\n",
    "        # https://docs.aws.amazon.com/secretsmanager/latest/apireference/API_GetSecretValue.html\n",
    "        raise e\n",
    "\n",
    "    return get_secret_value_response\n",
    "    # Your code goes here."
   ]
  },
  {
   "cell_type": "code",
   "execution_count": 8,
   "metadata": {},
   "outputs": [],
   "source": [
    "secret = get_secret()"
   ]
  },
  {
   "cell_type": "code",
   "execution_count": 9,
   "metadata": {},
   "outputs": [
    {
     "data": {
      "text/plain": [
       "{'ARN': 'arn:aws:secretsmanager:us-west-2:668768749855:secret:rds!cluster-72ab118b-8a0b-491d-9c6b-4b0a49833510-bxwrMt',\n",
       " 'Name': 'rds!cluster-72ab118b-8a0b-491d-9c6b-4b0a49833510',\n",
       " 'VersionId': '211186bf-645b-41bc-8683-a911bb5d9660',\n",
       " 'SecretString': '{\"username\":\"janos\",\"password\":\"p9Z7TcIs_9YJDtX({[94otD}x>S[\"}',\n",
       " 'VersionStages': ['AWSCURRENT'],\n",
       " 'CreatedDate': datetime.datetime(2024, 11, 2, 18, 7, 51, 547000, tzinfo=tzlocal()),\n",
       " 'ResponseMetadata': {'RequestId': 'cad104ba-d1b1-4a4e-b842-5dd6e005e7cb',\n",
       "  'HTTPStatusCode': 200,\n",
       "  'HTTPHeaders': {'x-amzn-requestid': 'cad104ba-d1b1-4a4e-b842-5dd6e005e7cb',\n",
       "   'content-type': 'application/x-amz-json-1.1',\n",
       "   'content-length': '377',\n",
       "   'date': 'Sun, 03 Nov 2024 02:37:02 GMT'},\n",
       "  'RetryAttempts': 0}}"
      ]
     },
     "execution_count": 9,
     "metadata": {},
     "output_type": "execute_result"
    }
   ],
   "source": [
    "secret"
   ]
  },
  {
   "cell_type": "code",
   "execution_count": 10,
   "metadata": {},
   "outputs": [
    {
     "ename": "ConnectionTimeout",
     "evalue": "connection timeout expired",
     "output_type": "error",
     "traceback": [
      "\u001b[0;31m---------------------------------------------------------------------------\u001b[0m",
      "\u001b[0;31mConnectionTimeout\u001b[0m                         Traceback (most recent call last)",
      "Cell \u001b[0;32mIn[10], line 10\u001b[0m\n\u001b[1;32m      7\u001b[0m db_password \u001b[38;5;241m=\u001b[39m \u001b[38;5;124m\"\u001b[39m\u001b[38;5;124mp9Z7TcIs_9YJDtX(\u001b[39m\u001b[38;5;124m{\u001b[39m\u001b[38;5;124m[94otD}x>S[\u001b[39m\u001b[38;5;124m\"\u001b[39m\n\u001b[1;32m      9\u001b[0m \u001b[38;5;66;03m# Standard psycopg connection\u001b[39;00m\n\u001b[0;32m---> 10\u001b[0m \u001b[38;5;28;01mwith\u001b[39;00m \u001b[43mpsycopg\u001b[49m\u001b[38;5;241;43m.\u001b[39;49m\u001b[43mconnect\u001b[49m\u001b[43m(\u001b[49m\n\u001b[1;32m     11\u001b[0m \u001b[43m    \u001b[49m\u001b[43mhost\u001b[49m\u001b[38;5;241;43m=\u001b[39;49m\u001b[43mdb_host\u001b[49m\u001b[43m,\u001b[49m\n\u001b[1;32m     12\u001b[0m \u001b[43m    \u001b[49m\u001b[43mdbname\u001b[49m\u001b[38;5;241;43m=\u001b[39;49m\u001b[43mdb_name\u001b[49m\u001b[43m,\u001b[49m\n\u001b[1;32m     13\u001b[0m \u001b[43m    \u001b[49m\u001b[43muser\u001b[49m\u001b[38;5;241;43m=\u001b[39;49m\u001b[43mdb_user\u001b[49m\u001b[43m,\u001b[49m\n\u001b[1;32m     14\u001b[0m \u001b[43m    \u001b[49m\u001b[43mpassword\u001b[49m\u001b[38;5;241;43m=\u001b[39;49m\u001b[43mdb_password\u001b[49m\n\u001b[1;32m     15\u001b[0m \u001b[43m)\u001b[49m \u001b[38;5;28;01mas\u001b[39;00m conn:\n\u001b[1;32m     16\u001b[0m     \u001b[38;5;28;01mwith\u001b[39;00m conn\u001b[38;5;241m.\u001b[39mcursor() \u001b[38;5;28;01mas\u001b[39;00m cursor:\n\u001b[1;32m     17\u001b[0m         cursor\u001b[38;5;241m.\u001b[39mexecute(\u001b[38;5;124m\"\u001b[39m\u001b[38;5;124mSELECT aurora_db_instance_identifier()\u001b[39m\u001b[38;5;124m\"\u001b[39m)\n",
      "File \u001b[0;32m~/Documents/HEC/3 - Polyfinance Datathon 2024/poly_datathon_2024/venv/lib/python3.11/site-packages/psycopg/connection.py:119\u001b[0m, in \u001b[0;36mConnection.connect\u001b[0;34m(cls, conninfo, autocommit, prepare_threshold, context, row_factory, cursor_factory, **kwargs)\u001b[0m\n\u001b[1;32m    117\u001b[0m \u001b[38;5;28;01mif\u001b[39;00m \u001b[38;5;129;01mnot\u001b[39;00m rv:\n\u001b[1;32m    118\u001b[0m     \u001b[38;5;28;01massert\u001b[39;00m last_ex\n\u001b[0;32m--> 119\u001b[0m     \u001b[38;5;28;01mraise\u001b[39;00m last_ex\u001b[38;5;241m.\u001b[39mwith_traceback(\u001b[38;5;28;01mNone\u001b[39;00m)\n\u001b[1;32m    121\u001b[0m rv\u001b[38;5;241m.\u001b[39m_autocommit \u001b[38;5;241m=\u001b[39m \u001b[38;5;28mbool\u001b[39m(autocommit)\n\u001b[1;32m    122\u001b[0m \u001b[38;5;28;01mif\u001b[39;00m row_factory:\n",
      "\u001b[0;31mConnectionTimeout\u001b[0m: connection timeout expired"
     ]
    }
   ],
   "source": [
    "import psycopg\n",
    "\n",
    "# Replace with actual values retrieved from AWS Secrets Manager\n",
    "db_host = \"database-1.cluster-czkmkismw47i.us-west-2.rds.amazonaws.com\"\n",
    "db_name = \"datathon_db\"\n",
    "db_user = \"janos\"\n",
    "db_password = \"p9Z7TcIs_9YJDtX({[94otD}x>S[\"\n",
    "\n",
    "# Standard psycopg connection\n",
    "with psycopg.connect(\n",
    "    host=db_host,\n",
    "    dbname=db_name,\n",
    "    user=db_user,\n",
    "    password=db_password\n",
    ") as conn:\n",
    "    with conn.cursor() as cursor:\n",
    "        cursor.execute(\"SELECT aurora_db_instance_identifier()\")\n",
    "        result = cursor.fetchone()\n",
    "        print(result)\n"
   ]
  },
  {
   "cell_type": "code",
   "execution_count": null,
   "metadata": {},
   "outputs": [],
   "source": []
  }
 ],
 "metadata": {
  "kernelspec": {
   "display_name": "venv",
   "language": "python",
   "name": "python3"
  },
  "language_info": {
   "codemirror_mode": {
    "name": "ipython",
    "version": 3
   },
   "file_extension": ".py",
   "mimetype": "text/x-python",
   "name": "python",
   "nbconvert_exporter": "python",
   "pygments_lexer": "ipython3",
   "version": "3.11.5"
  }
 },
 "nbformat": 4,
 "nbformat_minor": 2
}
