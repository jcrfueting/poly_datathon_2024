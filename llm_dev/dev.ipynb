{
 "cells": [
  {
   "cell_type": "code",
   "execution_count": 1,
   "metadata": {},
   "outputs": [],
   "source": [
    "import boto3\n",
    "import numpy as np"
   ]
  },
  {
   "cell_type": "code",
   "execution_count": 3,
   "metadata": {},
   "outputs": [
    {
     "name": "stdout",
     "output_type": "stream",
     "text": [
      "Here is a concise memo summarizing the key points from Matterport's 2022 Annual Report and identifying relevant market trends and takeaways:\n",
      "\n",
      "To: Team\n",
      "From: [Your Name]\n",
      "Date: [Current Date]\n",
      "Subject: Summary of Matterport 2022 Annual Report\n",
      "\n",
      "This memo provides an overview of Matterport's 2022 annual report and analysis of key market trends and risks relevant to our business.\n",
      "\n",
      "Report Summary:\n",
      "- Matterport is a spatial data company that provides 3D capture and data management solutions for the built world. Their solutions allow users to design, build, operate, promote and understand spaces in a more efficient and impactful way.\n",
      "- In 2022, Matterport's total revenue was $134.7 million, up 27% year-over-year. However, they incurred a net loss of $186.2 million due to increased operating expenses.\n",
      "- Subscription revenue grew 41% to $59.4 million, driven by expansion of their subscriber base to 779,000 subscribers.\n",
      "- License revenue declined 5% to $48.1 million due to supply chain constraints impacting camera sales.\n",
      "- Services revenue grew 59% to $27.2 million from increased demand for their Capture Services.\n",
      "\n",
      "Key Market Trends:\n",
      "- Accelerating digital transformation across industries is driving demand for spatial data solutions to digitize the built world.\n",
      "- Increasing adoption of 3D digital twins and metaverse applications creates opportunities for Matterport's spatial data platform.\n",
      "- Supply chain disruptions and economic uncertainty pose risks to hardware sales and customer spending.\n",
      "\n",
      "Potential Risks and Takeaways:\n",
      "- Matterport is investing heavily in growth, resulting in significant operating losses. Profitability may be impacted if revenue growth slows.\n",
      "- Reliance on subscription revenue model makes them vulnerable to customer churn and renewal rates.\n",
      "- Continued supply chain constraints could further impact camera sales and license revenue.\n",
      "- Economic headwinds may dampen enterprise spending and adoption of new technologies in the near-term.\n",
      "\n",
      "Please let me know if you need any clarification or have additional questions about this report summary and analysis.\n",
      "\n",
      "Regards,\n",
      "[Your Name]\n"
     ]
    }
   ],
   "source": [
    "from botocore.exceptions import ClientError\n",
    "\n",
    "# Create a Bedrock Runtime client in the AWS Region you want to use.\n",
    "client = boto3.client(\"bedrock-runtime\", region_name=\"us-west-2\")\n",
    "\n",
    "# Set the model ID, e.g., Titan Text Premier.\n",
    "model_id = \"anthropic.claude-3-sonnet-20240229-v1:0\"\n",
    "\n",
    "# Start a conversation with the user message.\n",
    "user_message = \"\"\"Your task is to analyze the following report:\n",
    "<report>\n",
    "{{FULL REPORT TEXT FROM https://investors.matterport.com/node/9501/html}}\n",
    "</report>\n",
    "\n",
    "Summarize this annual report in a concise and clear manner, and identify key market trends and takeaways. Output your findings as a short memo I can send to my team. The goal of the memo is to ensure my team stays up to date on how financial institutions are faring and qualitatively forecast and identify whether there are any operating and revenue risks to be expected in the coming quarter. Make sure to include all relevant details in your summary and analysis.\"\"\"\n",
    "conversation = [\n",
    "    {\n",
    "        \"role\": \"user\",\n",
    "        \"content\": [{\"text\": user_message}],\n",
    "    }\n",
    "]\n",
    "\n",
    "try:\n",
    "    # Send the message to the model, using a basic inference configuration.\n",
    "    response = client.converse(\n",
    "        modelId=model_id,\n",
    "        messages=conversation,\n",
    "        inferenceConfig={\"maxTokens\":4096,\"temperature\":0},\n",
    "        additionalModelRequestFields={\"top_k\":250}\n",
    "    )\n",
    "\n",
    "    # Extract and print the response text.\n",
    "    response_text = response[\"output\"][\"message\"][\"content\"][0][\"text\"]\n",
    "    print(response_text)\n",
    "\n",
    "except (ClientError, Exception) as e:\n",
    "    print(f\"ERROR: Can't invoke '{model_id}'. Reason: {e}\")\n",
    "    exit(1)\n"
   ]
  },
  {
   "cell_type": "code",
   "execution_count": 15,
   "metadata": {},
   "outputs": [],
   "source": [
    "session = boto3.Session()"
   ]
  },
  {
   "cell_type": "code",
   "execution_count": 17,
   "metadata": {},
   "outputs": [],
   "source": [
    "crd = session.get_credentials()"
   ]
  },
  {
   "cell_type": "code",
   "execution_count": null,
   "metadata": {},
   "outputs": [],
   "source": []
  }
 ],
 "metadata": {
  "kernelspec": {
   "display_name": "venv",
   "language": "python",
   "name": "python3"
  },
  "language_info": {
   "codemirror_mode": {
    "name": "ipython",
    "version": 3
   },
   "file_extension": ".py",
   "mimetype": "text/x-python",
   "name": "python",
   "nbconvert_exporter": "python",
   "pygments_lexer": "ipython3",
   "version": "3.11.5"
  }
 },
 "nbformat": 4,
 "nbformat_minor": 2
}
